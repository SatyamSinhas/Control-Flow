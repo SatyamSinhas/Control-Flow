{
 "cells": [
  {
   "cell_type": "code",
   "execution_count": null,
   "id": "190f531d-7592-4e14-90da-83be989d6b7b",
   "metadata": {},
   "outputs": [],
   "source": [
    "#1. Write a Python program to check if a given number is positive or negative."
   ]
  },
  {
   "cell_type": "code",
   "execution_count": null,
   "id": "d23c0f0b-3b45-4fc3-b9bd-725d042cc9bc",
   "metadata": {},
   "outputs": [],
   "source": [
    "def check_number(n):\n",
    "    if n > 0:\n",
    "        return \"Positive\"\n",
    "    elif n < 0:\n",
    "        return \"Negative\"\n",
    "    else:\n",
    "        return \"Zero\"\n",
    "\n",
    "num = int(input(\"Enter a number: \"))\n",
    "print(check_number(num))"
   ]
  },
  {
   "cell_type": "code",
   "execution_count": null,
   "id": "14b12420-01f8-4a50-9a34-64d6bac645e9",
   "metadata": {},
   "outputs": [],
   "source": [
    "#2. Create a program that determines if a person is eligible to vote based on their age."
   ]
  },
  {
   "cell_type": "code",
   "execution_count": null,
   "id": "c898280b-26e7-497d-9ec0-b0a00d36ccf9",
   "metadata": {},
   "outputs": [],
   "source": [
    "n = int(input(\"Enter Age:\"))\n",
    "if n>17:\n",
    "    print(\"Voter is eligible to vote\")\n",
    "else:\n",
    "    print(\"Voter is not eligible to vote\")\n",
    "        "
   ]
  },
  {
   "cell_type": "code",
   "execution_count": null,
   "id": "45f0ae78-85d2-455b-a5d8-46c8e406d472",
   "metadata": {},
   "outputs": [],
   "source": [
    "#3. Develop a program to find the maximum of two numbers using if-else statements."
   ]
  },
  {
   "cell_type": "code",
   "execution_count": null,
   "id": "f19ef8e2-f587-42a5-98b4-c299b8084125",
   "metadata": {},
   "outputs": [],
   "source": [
    "n = int(input(\"First Number:\"))\n",
    "n2 = int(input(\"Second Number:\"))\n",
    "if n>n2:\n",
    "    print(\"First number is maximum which is\", n)\n",
    "elif n==n2:\n",
    "    print(\"Both number is Equal which is\", n )\n",
    "else:\n",
    "    print(\"Second number is maximum which is\", n2)\n",
    "\n"
   ]
  },
  {
   "cell_type": "code",
   "execution_count": null,
   "id": "4273db48-8dc7-4b9e-a131-bf7b67ec435e",
   "metadata": {},
   "outputs": [],
   "source": [
    "#4. Write a Python script to classify a given year as a leap year or not."
   ]
  },
  {
   "cell_type": "code",
   "execution_count": null,
   "id": "0101f65b-5211-4794-973c-ffc5bddd3b0b",
   "metadata": {},
   "outputs": [],
   "source": [
    "y=int(input(\"Enter year to be checked:\")) \n",
    "if(y%4==0 and y%100!= 0 or y%400==0): \n",
    "    print(\"The year is a leap year!\") \n",
    "else: \n",
    "    print(\"The year isn't a leap year!\")\n"
   ]
  },
  {
   "cell_type": "code",
   "execution_count": null,
   "id": "33a1716a-edf6-43da-aaf5-637884485156",
   "metadata": {},
   "outputs": [],
   "source": [
    "#5. Create a program that checks whether a character is a vowel or a consonant."
   ]
  },
  {
   "cell_type": "code",
   "execution_count": null,
   "id": "d7573544-2447-4e97-9be2-6e0be3cea9fd",
   "metadata": {},
   "outputs": [],
   "source": [
    "ch = input(\"Enter a character: \")\n",
    "if ch in 'aeiouAEIOU':\n",
    "    print(\"Vowel\")\n",
    "else:\n",
    "    print(\"Consonant\")"
   ]
  },
  {
   "cell_type": "code",
   "execution_count": null,
   "id": "22d766d6-1321-40c4-8a44-474b7d3116c1",
   "metadata": {},
   "outputs": [],
   "source": [
    "#6. Implement a program to determine whether a given number is even or odd."
   ]
  },
  {
   "cell_type": "code",
   "execution_count": null,
   "id": "29f62b42-44a0-417f-ac2e-798e93e6bb84",
   "metadata": {},
   "outputs": [],
   "source": [
    "n = int(input(\"Enter Number:\"))\n",
    "if n%2==0:\n",
    "    print(n,\"is even number\")\n",
    "else:\n",
    "    print(n,\"is odd number\")"
   ]
  },
  {
   "cell_type": "code",
   "execution_count": null,
   "id": "3ae5d950-9b9e-4847-9791-0c1c9f3689ca",
   "metadata": {},
   "outputs": [],
   "source": [
    "#7. Write a Pythonfunction to calculate the absolute value of a number without using the `abs()` function."
   ]
  },
  {
   "cell_type": "code",
   "execution_count": null,
   "id": "ee0fbaef-883b-493e-a40f-c9a449d8779b",
   "metadata": {},
   "outputs": [],
   "source": [
    "n = int(input(\"Enter Number:\"))\n",
    "if n>=0:\n",
    "    print(n)\n",
    "else:\n",
    "    print(-n)"
   ]
  },
  {
   "cell_type": "code",
   "execution_count": null,
   "id": "a8715b54-fc8b-4665-a61c-cf2f95b48551",
   "metadata": {},
   "outputs": [],
   "source": [
    "#8. Develop a program that determines the largest of three given numbers using if-else statements."
   ]
  },
  {
   "cell_type": "code",
   "execution_count": null,
   "id": "a417195b-6bec-4426-ba3b-9068a7d65fa1",
   "metadata": {},
   "outputs": [],
   "source": [
    "num1 = int(input(\"First Number:\"))\n",
    "num2 = int(input(\"Second Number:\"))\n",
    "num3 = int(input(\"Third Number:\"))\n",
    "if (num1 >= num2) and (num1 >= num3):\n",
    "  largest = num1\n",
    "elif (num2 >= num1) and (num2 >= num3):\n",
    "  largest = num2\n",
    "else:\n",
    "  largest = num3\n",
    "print(\"The largest number is\", largest)\n",
    "     "
   ]
  },
  {
   "cell_type": "code",
   "execution_count": null,
   "id": "293e1a38-2496-4f4f-a25c-5a5feb57a8ee",
   "metadata": {},
   "outputs": [],
   "source": [
    "#9Create a program that checks if a given string is a palindrome."
   ]
  },
  {
   "cell_type": "code",
   "execution_count": null,
   "id": "2180dcfb-6100-431a-ad44-6a0379f46132",
   "metadata": {},
   "outputs": [],
   "source": [
    "num = str(input(\"First Number:\"))\n",
    "if num == num[::-1]:\n",
    "    print(\"Number is palindrome\")\n",
    "else:\n",
    "    print(\"Number is not palindrome\")"
   ]
  },
  {
   "cell_type": "code",
   "execution_count": null,
   "id": "0996d6fd-9c1a-48cd-9d53-e4404c2e5185",
   "metadata": {},
   "outputs": [],
   "source": [
    "#10.Write a Python program to calculate the grade based on a student's score."
   ]
  },
  {
   "cell_type": "code",
   "execution_count": null,
   "id": "aa274503-47b6-48c6-b52e-98c408e4ccdb",
   "metadata": {},
   "outputs": [],
   "source": [
    "marks = float(input(\"Enter the number \"))\n",
    "if (marks <40):\n",
    "  print(\"Satisfactory\")\n",
    "elif(marks >=40 and marks <=80):\n",
    "  print(\"Good\")\n",
    "else:\n",
    "  print(\"Excellent\")"
   ]
  },
  {
   "cell_type": "code",
   "execution_count": null,
   "id": "05ad4055-f168-46b2-9603-7fa4d38d7a21",
   "metadata": {},
   "outputs": [],
   "source": [
    "#11. Write a program to find the largest among three numbers using nested if-else statements."
   ]
  },
  {
   "cell_type": "code",
   "execution_count": null,
   "id": "73ea6dda-b076-45ad-adc5-0ed63843afd5",
   "metadata": {},
   "outputs": [],
   "source": [
    "a = int(input(\"Enter A: \"))\n",
    "b = int(input(\"Enter B: \"))\n",
    "c = int(input(\"Enter C: \"))\n",
    "if a>b:\n",
    "  if a>c :\n",
    "    g=c\n",
    "else:\n",
    "  if b>c:\n",
    "    g=b\n",
    "  else:\n",
    "      g=c\n",
    "print(\"Greater =\" , g)\n",
    "     "
   ]
  },
  {
   "cell_type": "code",
   "execution_count": null,
   "id": "f5cbe199-b4bc-40f3-bba7-0eb49ad801b9",
   "metadata": {},
   "outputs": [],
   "source": [
    "#12. Implement a program to determine if a triangle is equilateral, isosceles, or scalene."
   ]
  },
  {
   "cell_type": "code",
   "execution_count": null,
   "id": "7c22a1af-e88d-47cf-808c-7a93048ebe5f",
   "metadata": {},
   "outputs": [],
   "source": [
    "def checkTriangle(x,y,z):\n",
    "  if x == y == z:\n",
    "    print(\"Equilateral triangle\")\n",
    "  elif x == y or y == z or z == x:\n",
    "    print(\"Isosceles Triangle\")\n",
    "  else:\n",
    "    print(\"Scalene Triangle\")\n",
    "x = 8\n",
    "y = 7\n",
    "z = 9\n",
    "checkTriangle(x,y,z)"
   ]
  },
  {
   "cell_type": "code",
   "execution_count": null,
   "id": "a44565a5-9cbd-4ff2-b16c-680d3bcb2b65",
   "metadata": {},
   "outputs": [],
   "source": [
    "#13. Develop a program that checks if a year is a leap year and also if it is a century year."
   ]
  },
  {
   "cell_type": "code",
   "execution_count": null,
   "id": "b10087d7-7092-4c32-866b-253a17725f81",
   "metadata": {},
   "outputs": [],
   "source": [
    "y=int(input(\"Enter year to be checked:\")) \n",
    "if(y%4==0 and y%400==0): \n",
    "    print(\"The year is a leap and century year!\") \n",
    "else: \n",
    "    print(\"The year isn't a leap and century year!\")\n"
   ]
  },
  {
   "cell_type": "code",
   "execution_count": null,
   "id": "bde89401-244d-4073-be21-7df423d42aef",
   "metadata": {},
   "outputs": [],
   "source": [
    "#14. Write a Python script to determine if a number is positive, negative, or zero."
   ]
  },
  {
   "cell_type": "code",
   "execution_count": null,
   "id": "49146f2b-9ac8-479e-91c3-4c27b75d967a",
   "metadata": {},
   "outputs": [],
   "source": [
    "y=int(input(\"Enter Number to be checked:\")) \n",
    "if y>0:\n",
    "    print(\"Number is positive\")\n",
    "elif y==0:\n",
    "    print(\"Number is zero\")\n",
    "else:\n",
    "    print(\"Number is negative\")"
   ]
  },
  {
   "cell_type": "code",
   "execution_count": null,
   "id": "b124bac0-d967-4ccb-8bcf-ab2fb804d2ea",
   "metadata": {},
   "outputs": [],
   "source": [
    "#15. Create a program to check if a person is a teenager (between 13 and 19 years old)."
   ]
  },
  {
   "cell_type": "code",
   "execution_count": null,
   "id": "d8feed99-b7e0-46fc-afa9-09a72039f778",
   "metadata": {},
   "outputs": [],
   "source": [
    "y=int(input(\"Enter year to be checked:\")) \n",
    "if y>=13 and y<20:\n",
    "    print(\"Teenager\")\n",
    "else:\n",
    "    print(\"Not Teenager\")\n",
    "    "
   ]
  },
  {
   "cell_type": "code",
   "execution_count": null,
   "id": "732102c6-6d9d-4c9e-97c7-9afd1e387044",
   "metadata": {},
   "outputs": [],
   "source": [
    "#16. Develop a program that determines the type of angle based on its measure (acute, obtuse, or right)."
   ]
  },
  {
   "cell_type": "code",
   "execution_count": null,
   "id": "61f6c2f1-6f1e-4ff0-b994-6e570960387d",
   "metadata": {},
   "outputs": [],
   "source": [
    "a = int(input(\"Enter a angle of 1: \"))\n",
    "b = int(input(\"Enter a angle of 2: \"))\n",
    "c = int(input(\"Enter a angle of 3: \"))\n",
    "if(a+b+c <= 90):\n",
    "  print(\"Acute Angle\")\n",
    "if(90>a<=180 or 90>b<=180 or 90>c<=180):\n",
    "  print(\"Obtuse Angle\")\n",
    "if(a == 90 or b == 90 or c == 90):\n",
    "  print(\"Right Angle\")\n",
    "     "
   ]
  },
  {
   "cell_type": "code",
   "execution_count": null,
   "id": "0f97dd8a-74bf-4b8d-b2a1-ef6e19a677f3",
   "metadata": {},
   "outputs": [],
   "source": [
    "#17. Write a Python program to calculate the roots of a quadratic equation."
   ]
  },
  {
   "cell_type": "code",
   "execution_count": null,
   "id": "8093f40f-fb1c-47ff-81a1-5dcbd16f23eb",
   "metadata": {},
   "outputs": [],
   "source": [
    "import cmath\n",
    "a = float(input(\"Enter coefficient a: \"))\n",
    "b = float(input(\"Enter coefficient b: \"))\n",
    "c = float(input(\"Enter coefficient c: \"))\n",
    "d = (b**2) - (4*a*c)\n",
    "root1 = (-b-cmath.sqrt(d))/(2*a)\n",
    "root2 = (-b+cmath.sqrt(d))/(2*a)\n",
    "\n",
    "print(\"The roots are {0} and {1}\".format(root1, root2))"
   ]
  },
  {
   "cell_type": "code",
   "execution_count": null,
   "id": "b5dc2de1-0d35-42a5-b2ef-ee9bfa7423c3",
   "metadata": {},
   "outputs": [],
   "source": [
    "#18. Implement a program to determine the day of the week based on a user-provided number (1 for Monday, 2 for Tuesday, etc.)."
   ]
  },
  {
   "cell_type": "code",
   "execution_count": null,
   "id": "fc0ef146-4a5b-4037-b61b-223745ffef89",
   "metadata": {},
   "outputs": [],
   "source": [
    "day = int(input(\"Enter a number from 1 to 7: \"))\n",
    "if day == 1:\n",
    "  print(day, \"is Monday\")\n",
    "elif day == 2:\n",
    "  print(day, \"is Tuesday\")\n",
    "elif day == 3:\n",
    "  print(day, \"is Wednesday\")\n",
    "elif day == 4:\n",
    "  print(day, \"is Thurday\")\n",
    "elif day == 5:\n",
    "  print(day, \"is Friday\")\n",
    "elif day == 6:\n",
    "  print(day, \"is Saturday\")\n",
    "elif day == 7:\n",
    "  print(day, \"is Sunday\")\n",
    "else:\n",
    "  print(\"Wrong input! Please enter a correct number\")"
   ]
  },
  {
   "cell_type": "code",
   "execution_count": null,
   "id": "8abf741f-3938-477e-8487-13a34e78f32f",
   "metadata": {},
   "outputs": [],
   "source": [
    "#19. Create a program that determines if a year is a leap year and also if it is evenly divisible by 400."
   ]
  },
  {
   "cell_type": "code",
   "execution_count": null,
   "id": "f34e7951-a66a-44ab-9e2d-6439d0f354d6",
   "metadata": {},
   "outputs": [],
   "source": [
    "y=int(input(\"Enter year to be checked:\")) \n",
    "if(y%4==0 and y%100!=0 or y%400==0): \n",
    "    print(\"The year is a leap year!\") \n",
    "else: \n",
    "    print(\"The year isn't a leap year!\")"
   ]
  },
  {
   "cell_type": "code",
   "execution_count": null,
   "id": "8ad225ae-6c0d-4dbf-83b7-2ebc466a8d8c",
   "metadata": {},
   "outputs": [],
   "source": [
    "#20. Develop a program that checks if a given number is prime or not using nested if-else statements."
   ]
  },
  {
   "cell_type": "code",
   "execution_count": null,
   "id": "52b67b38-ccf8-4b2b-95d2-dca7d948e19b",
   "metadata": {},
   "outputs": [],
   "source": [
    "def is_prime(n):\n",
    "    if n > 2:\n",
    "        for i in range(2,n):\n",
    "            if (n % i) == 0:\n",
    "                return \"Not a Prime Number\"\n",
    "                break\n",
    "        else:\n",
    "            return \"Prime Number\"\n",
    "    else:\n",
    "        return \"Not a Prime Number\"\n",
    "\n",
    "num = int(input(\"Enter a number: \"))\n",
    "print(is_prime(num))"
   ]
  },
  {
   "cell_type": "code",
   "execution_count": null,
   "id": "63859c8e-ec3c-4b77-bde5-491e12d3fa8f",
   "metadata": {},
   "outputs": [],
   "source": [
    "#21Write a Python program to assign grades based on different ranges of scores using elif statements."
   ]
  },
  {
   "cell_type": "code",
   "execution_count": null,
   "id": "af619d45-1c46-47c2-a3a8-368dfea8b231",
   "metadata": {},
   "outputs": [],
   "source": [
    "print(\"Enter Marks Obtained  in 5 subjects: \")\n",
    "total1 = 76\n",
    "total2 = 94\n",
    "total3 = 68\n",
    "total4 = 65\n",
    "total5 = 97\n",
    "tot = total1 + total2 + total3 + total4 + total5\n",
    "avg = tot / 5\n",
    "if avg >= 91 and avg <= 100:\n",
    "  print(\"Your Grade is A1\")\n",
    "elif avg >= 81 and avg < 91:\n",
    "  print(\"Your Grade is A2\")\n",
    "elif avg >= 71 and avg < 81:\n",
    "  print(\"Your Grade is B1\")\n",
    "elif avg >= 61 and avg < 71:\n",
    "  print(\"Your Grade is B2\")\n",
    "elif avg >= 51 and avg < 61:\n",
    "  print(\"Your Grade is C1\")\n",
    "elif avg >= 41 and avg < 51:\n",
    "  print(\"Your Grade is C2\")\n",
    "elif avg >= 33 and avg < 41:\n",
    "  print(\"Your Grade is D\")\n",
    "elif avg >= 21 and avg < 33:\n",
    "  print(\"Your Grade is E1\")\n",
    "elif avg >= 0 and avg < 21:\n",
    "  print(\"Your Grade is E2\")\n",
    "else:\n",
    "  print(\"Invalid Input\")"
   ]
  },
  {
   "cell_type": "code",
   "execution_count": null,
   "id": "f719df00-7432-43d4-a16a-a636d2008202",
   "metadata": {},
   "outputs": [],
   "source": [
    "#22. Implement a program to determine the type of a triangle based on its angles."
   ]
  },
  {
   "cell_type": "code",
   "execution_count": null,
   "id": "2ceb8bf9-fdb3-4206-ac40-9a06fffe1f18",
   "metadata": {},
   "outputs": [],
   "source": [
    "def checkTriangle(x,y,z):\n",
    "  if x == y == z:\n",
    "    print(\"Equilateral Triangle\")\n",
    "  elif x == y or y == z or z == x:\n",
    "    print(\"Isosceles Triangle\")\n",
    "  else:\n",
    "    print(\"Scalene Triangle\")\n",
    "x = 9\n",
    "y = 5\n",
    "z = 4\n",
    "checkTriangle(x,y,z)"
   ]
  },
  {
   "cell_type": "code",
   "execution_count": null,
   "id": "1958f7b5-4a28-4476-9059-9e54c8c76500",
   "metadata": {},
   "outputs": [],
   "source": [
    "#23. Develop a program to categorize a given person's BMI into underweight, normal, overweight, or obese usingelif statements."
   ]
  },
  {
   "cell_type": "code",
   "execution_count": null,
   "id": "048cb067-8cfb-43e9-b17c-2635773151d4",
   "metadata": {},
   "outputs": [],
   "source": [
    "def categorize_bmi(bmi):\n",
    "    if bmi < 18.5:\n",
    "        return \"Underweight\"\n",
    "    elif 18.5 <= bmi < 25:\n",
    "        return \"Normal\"\n",
    "    elif 25 <= bmi < 30:\n",
    "        return \"Overweight\"\n",
    "    else:\n",
    "        return \"Obese\"\n",
    "\n",
    "bmi = float(input(\"Enter your BMI: \"))\n",
    "print(\"You are\", categorize_bmi(bmi))"
   ]
  },
  {
   "cell_type": "code",
   "execution_count": null,
   "id": "06ceae31-931c-4db9-81a6-789058e5aabc",
   "metadata": {},
   "outputs": [],
   "source": [
    "#24Create a program that determines whether a given number is positive, negative, or zero using elifstatements"
   ]
  },
  {
   "cell_type": "code",
   "execution_count": null,
   "id": "f5f9be48-12ed-4105-88c7-43fb1d23c0d5",
   "metadata": {},
   "outputs": [],
   "source": [
    "num = float(input(\"Input a number: \"))\n",
    "if num > 0:\n",
    "  print(\"It is a positive number\")\n",
    "elif num == 0:\n",
    "  print(\"It is a zero\")\n",
    "else: print(\"It is neagative number\")"
   ]
  },
  {
   "cell_type": "code",
   "execution_count": null,
   "id": "6ecc47c2-58aa-4e87-8e04-91261d139871",
   "metadata": {},
   "outputs": [],
   "source": [
    "#25. Write a Python script to determine the type of a character (uppercase, lowercase, or special) using elifstatements."
   ]
  },
  {
   "cell_type": "code",
   "execution_count": null,
   "id": "85c0a99a-2bda-4a04-ab64-ed3cac01ef29",
   "metadata": {},
   "outputs": [],
   "source": [
    "ch = input(\"Enter a character: \")\n",
    "if(ch.isupper()):\n",
    "  print(\"Its an uppercase chracter\")\n",
    "elif(ch.islower()):\n",
    "  print(\"Its a lowercase\")\n",
    "else:\n",
    "  print(\"Its a special character\")"
   ]
  },
  {
   "cell_type": "code",
   "execution_count": null,
   "id": "cacfa1e1-548d-450b-8dbc-c38c58c6ce84",
   "metadata": {},
   "outputs": [],
   "source": [
    "#26. Implement a program to calculate the discounted price based on different purchase amounts using elifstatements."
   ]
  },
  {
   "cell_type": "code",
   "execution_count": null,
   "id": "eea97343-f010-4b95-9a18-98a559f26ca2",
   "metadata": {},
   "outputs": [],
   "source": [
    "def calculate_discounted_price(price):\n",
    "    if price <= 100:\n",
    "        return price \n",
    "    elif 100 < price <= 200:\n",
    "        return price * 0.9  \n",
    "    elif 200 < price <= 500:\n",
    "        return price * 0.8  \n",
    "    else:\n",
    "        return price * 0.7  \n",
    "\n",
    "price = float(input(\"Enter the purchase amount: \"))\n",
    "print(\"The discounted price is\", calculate_discounted_price(price))"
   ]
  },
  {
   "cell_type": "code",
   "execution_count": null,
   "id": "c2194e65-39f4-4771-becb-16b9ad5686a4",
   "metadata": {},
   "outputs": [],
   "source": [
    "#27. Develop a program to calculate the electricity bill based on different consumption slabs using elifstatements."
   ]
  },
  {
   "cell_type": "code",
   "execution_count": null,
   "id": "25d84f02-6d47-4c72-9b45-165880a1c0f4",
   "metadata": {},
   "outputs": [],
   "source": [
    "def calculateBill(units):\n",
    "  if(units <= 100):\n",
    "    return units * 10;\n",
    "  elif (units <= 200):\n",
    "    return((100 * 10) + (units - 100) * 15);\n",
    "  elif(units <= 300):\n",
    "    return((100 * 10) + (100 * 15) + (units - 200) * 20);\n",
    "  elif(units > 300):\n",
    "    return((100 * 10) + (100 * 15) + (units - 300) * 25);\n",
    "  return 0;\n",
    "units = 250\n",
    "print(calculateBill(units));"
   ]
  },
  {
   "cell_type": "code",
   "execution_count": null,
   "id": "30e7ccbe-d6ae-458e-90f6-2aa86bd254cb",
   "metadata": {},
   "outputs": [],
   "source": [
    "#28. Create a program to determine the type of quadrilateral based on its angles and sides using elifstatements."
   ]
  },
  {
   "cell_type": "code",
   "execution_count": null,
   "id": "828e6484-25e7-45bb-8d6d-00e4f0830f22",
   "metadata": {},
   "outputs": [],
   "source": [
    "def determine_quadrilateral_type(sides, angles):\n",
    "    if len(sides) != 4 or len(angles) != 4:\n",
    "        return \"Invalid input. Please provide 4 sides and 4 angles.\"\n",
    "\n",
    "    all_sides_equal = all(side == sides[0] for side in sides)\n",
    "\n",
    "    all_angles_ninety = all(angle == 90 for angle in angles)\n",
    "\n",
    "    if all_sides_equal and all_angles_ninety:\n",
    "        return \"Square\"\n",
    "    elif not all_sides_equal and all_angles_ninety:\n",
    "        return \"Rectangle\"\n",
    "    elif all_sides_equal and not all_angles_ninety:\n",
    "        return \"Rhombus\"\n",
    "    else:\n",
    "        return \"Quadrilateral\"\n",
    "\n",
    "sides = [float(input(\"Enter side {}: \".format(i+1))) for i in range(4)]\n",
    "angles = [float(input(\"Enter angle {}: \".format(i+1))) for i in range(4)]\n",
    "print(\"The quadrilateral is a\", determine_quadrilateral_type(sides, angles))"
   ]
  },
  {
   "cell_type": "code",
   "execution_count": null,
   "id": "6c7614b4-6489-4c63-b012-dee17b7216a4",
   "metadata": {},
   "outputs": [],
   "source": [
    "#29. Write a Python script to determine the season based on a user-provided month using elif statements."
   ]
  },
  {
   "cell_type": "code",
   "execution_count": null,
   "id": "3da6c6f9-cacb-446b-8ae7-d420e9566da1",
   "metadata": {},
   "outputs": [],
   "source": [
    "def findseason(M):\n",
    "  list1 = [[12, 1 , 2], [3, 4, 5], [6, 7, 8], [9, 10, 11]]\n",
    "  if M in list1[0]:\n",
    "    print(\"Winter\")\n",
    "  elif M in list1[1]:\n",
    "    print(\"Spring\")\n",
    "  elif M in list1[2]:\n",
    "    print(\"Summer\")\n",
    "  elif M in list1[3]:\n",
    "    print(\"Autumn\")\n",
    "  else:\n",
    "    print(\"Invalid Month Number\")\n",
    "M = int(input(\"Enter Month Number:\"))\n",
    "\n",
    "print(\"For Month number:\", M)\n",
    "findseason(M)"
   ]
  },
  {
   "cell_type": "code",
   "execution_count": null,
   "id": "f73c894c-e487-4f8a-ab78-545fd602c685",
   "metadata": {},
   "outputs": [],
   "source": [
    "#30. Implement a program to determine the type of a year (leap or common) and month (30 or 31 days) usingelif statements.\n"
   ]
  },
  {
   "cell_type": "code",
   "execution_count": null,
   "id": "99fcf6f3-4b68-480b-b4c4-e10f6c0e8bc1",
   "metadata": {},
   "outputs": [],
   "source": [
    "def determine_year_and_month(year, month):\n",
    "    if year % 4 == 0:\n",
    "        if year % 100 == 0:\n",
    "            if year % 400 == 0:\n",
    "                leap_year = True\n",
    "            else:\n",
    "                leap_year = False\n",
    "        else:\n",
    "            leap_year = True\n",
    "    else:\n",
    "        leap_year = False\n",
    "\n",
    "    if month in [4, 6, 9, 11]:\n",
    "        days = 30\n",
    "    elif month == 2:\n",
    "        if leap_year:\n",
    "            days = 29\n",
    "        else:\n",
    "            days = 28\n",
    "    else:\n",
    "        days = 31\n",
    "\n",
    "    return leap_year, days\n",
    "\n",
    "# Test the function\n",
    "year = int(input(\"Enter a year: \"))\n",
    "month = int(input(\"Enter a month (1-12): \"))\n",
    "leap_year, days = determine_year_and_month(year, month)\n",
    "if leap_year:\n",
    "    print(\"The year is a leap year and the month has\", days, \"days\")\n",
    "else:\n",
    "    print(\"The year is a common year and the month has\", days, \"days\")"
   ]
  },
  {
   "cell_type": "code",
   "execution_count": null,
   "id": "1a5d53c5-9732-4640-ab32-f16316aa3cd9",
   "metadata": {},
   "outputs": [],
   "source": [
    "#Assignment Questions\n",
    "#Basic Level:"
   ]
  },
  {
   "cell_type": "code",
   "execution_count": null,
   "id": "cf1f696a-2bc5-45f5-a869-7d2ae53abd53",
   "metadata": {},
   "outputs": [],
   "source": [
    "#1. Write a Python program that checks if a given number is positive, negative, or zero."
   ]
  },
  {
   "cell_type": "code",
   "execution_count": null,
   "id": "27702150-c62b-4056-9ddf-2439accbeabc",
   "metadata": {},
   "outputs": [],
   "source": [
    "num = float(input(\"Enter a number: \"))\n",
    "if num > 0:\n",
    "  print(\"Positive number\")\n",
    "elif num == 0:\n",
    "  print(\"Zero\")\n",
    "else:\n",
    "  print(\"Negative number\")"
   ]
  },
  {
   "cell_type": "code",
   "execution_count": null,
   "id": "d0c8847d-fb6e-4fd5-967e-626669a4d430",
   "metadata": {},
   "outputs": [],
   "source": [
    "#2. Create a program to determine if a person is eligible to vote based on their age."
   ]
  },
  {
   "cell_type": "code",
   "execution_count": null,
   "id": "e0189094-b56f-459c-8673-60d2ecf9a19c",
   "metadata": {},
   "outputs": [],
   "source": [
    "age = int(input(\"Enter your age: \"))\n",
    "if age >= 18:\n",
    "  print(\"You are eligible to vote.\")\n",
    "else:\n",
    "  print(\"You are not eligible to vote.\")"
   ]
  },
  {
   "cell_type": "code",
   "execution_count": null,
   "id": "3215c17d-db94-445c-bfd3-9f6787e35010",
   "metadata": {},
   "outputs": [],
   "source": [
    "#3.Write a program to find the maximum of two given numbers using conditional statements."
   ]
  },
  {
   "cell_type": "code",
   "execution_count": null,
   "id": "ccdf5fd9-9ae2-4676-8b73-91064300a13c",
   "metadata": {},
   "outputs": [],
   "source": [
    "def find_max(num1, num2):\n",
    "    if num1 > num2:\n",
    "        return num1\n",
    "    else:\n",
    "        return num2\n",
    "\n",
    "num1 = float(input(\"Enter the first number: \"))\n",
    "num2 = float(input(\"Enter the second number: \"))\n",
    "print(\"The maximum number is\", find_max(num1, num2))"
   ]
  },
  {
   "cell_type": "code",
   "execution_count": null,
   "id": "cc49423b-2e3c-48dd-82b7-8d37fff6abf8",
   "metadata": {},
   "outputs": [],
   "source": [
    "#4. Develop a program that calculates the grade of a student based on their exam score."
   ]
  },
  {
   "cell_type": "code",
   "execution_count": null,
   "id": "c88bbbbc-f3c9-4df1-8bf5-8f9e7cb97a4c",
   "metadata": {},
   "outputs": [],
   "source": [
    "score = float(input(\"Enter your score:\"))\n",
    "if score >= 90:\n",
    "    print(\"A\")\n",
    "elif score >= 80:\n",
    "    print(\"B\")\n",
    "elif score >= 60:\n",
    "    print(\"C\")\n",
    "elif score >= 40:\n",
    "    print(\"D\")\n",
    "else:\n",
    "    print(\"F\")\n",
    "    "
   ]
  },
  {
   "cell_type": "code",
   "execution_count": null,
   "id": "5c6ba3cc-0c8d-403f-9cf7-18f0de007480",
   "metadata": {},
   "outputs": [],
   "source": [
    "#5. Create a program that checks if a year is a leap year or not."
   ]
  },
  {
   "cell_type": "code",
   "execution_count": null,
   "id": "6aef8c24-f074-454c-80de-85d7ec98da0d",
   "metadata": {},
   "outputs": [],
   "source": [
    "y=int(input(\"Enter year to be checked:\")) \n",
    "if(y%4==0 and y%100!= 0 or y%400==0): \n",
    "    print(\"The year is a leap year!\") \n",
    "else: \n",
    "    print(\"The year isn't a leap year!\")"
   ]
  },
  {
   "cell_type": "code",
   "execution_count": null,
   "id": "6baae1d2-1aa6-4f87-b41c-7d6bad0af147",
   "metadata": {},
   "outputs": [],
   "source": [
    "#6. Write a program to classify a triangle based on its sides' lengths."
   ]
  },
  {
   "cell_type": "code",
   "execution_count": null,
   "id": "854cd456-c6ee-40eb-9103-f76fd08b8008",
   "metadata": {},
   "outputs": [],
   "source": [
    "def checkTriangle(x, y, z):\n",
    "  if x == y == z:\n",
    "    print(\"Equilateral Triangle\")\n",
    "  elif x== y or y == z or z == x:\n",
    "    print(\"Isosceles Triangle\")\n",
    "  else:\n",
    "    print(\"Scalene Triangle\")\n",
    "x = 8\n",
    "y = 7\n",
    "z = 9\n",
    "checkTriangle(x, y, z)"
   ]
  },
  {
   "cell_type": "code",
   "execution_count": null,
   "id": "bc38292e-dd2a-4bee-8408-74f652007836",
   "metadata": {},
   "outputs": [],
   "source": [
    "#7.Build a program that determines the largest of three given numbers."
   ]
  },
  {
   "cell_type": "code",
   "execution_count": null,
   "id": "0933a31b-13b6-4403-a157-3ab44e453f70",
   "metadata": {},
   "outputs": [],
   "source": [
    "def maximum(a, b, c):\n",
    "  list = [a, b, c]\n",
    "  return max(list)\n",
    "a = int(input(\"Enter Number to be checked:\"))\n",
    "b = int(input(\"Enter Number to be checked:\"))\n",
    "c = int(input(\"Enter Number to be checked:\"))\n",
    "print(maximum(a, b, c))"
   ]
  },
  {
   "cell_type": "code",
   "execution_count": null,
   "id": "1140f699-e436-45cf-847b-011dfa2f6cf3",
   "metadata": {},
   "outputs": [],
   "source": [
    "#8.Develop a program that checks whether a character is a vowel or a consonant."
   ]
  },
  {
   "cell_type": "code",
   "execution_count": null,
   "id": "4e665b66-2311-41ee-a1f9-112cd159f508",
   "metadata": {},
   "outputs": [],
   "source": [
    "def check_character(ch):\n",
    "    if ch in 'aeiouAEIOU':\n",
    "        return \"Vowel\"\n",
    "    else:\n",
    "        return \"Consonant\"\n",
    "ch = input(\"Enter a character: \")\n",
    "print(check_character(ch))"
   ]
  },
  {
   "cell_type": "code",
   "execution_count": null,
   "id": "a3f551c9-e3fc-4365-8423-7a8ea7c39a9c",
   "metadata": {},
   "outputs": [],
   "source": [
    "#9. Create a program to calculate the total cost of a shopping cart based on discounts"
   ]
  },
  {
   "cell_type": "code",
   "execution_count": null,
   "id": "16c4cbe5-aa87-4a0f-a336-43086f4a8a73",
   "metadata": {},
   "outputs": [],
   "source": [
    "def calculate_total_cost(prices, discount):\n",
    "    total = sum(prices)\n",
    "    return total - total * (discount / 100)\n",
    "\n",
    "prices = [float(input(\"Enter price of item {}: \".format(i+1))) for i in range(int(input(\"Enter number of items: \")))]\n",
    "discount = float(input(\"Enter discount percentage: \"))\n",
    "print(\"The total cost after discount is\", calculate_total_cost(prices, discount))"
   ]
  },
  {
   "cell_type": "code",
   "execution_count": null,
   "id": "2e20cdd7-01b5-4219-9d39-f9c32da1725c",
   "metadata": {},
   "outputs": [],
   "source": [
    "#10. Write a program that checks if a given number is even or odd."
   ]
  },
  {
   "cell_type": "code",
   "execution_count": null,
   "id": "d87f609f-187e-4208-a854-55f04524300f",
   "metadata": {},
   "outputs": [],
   "source": [
    "def evenOdd(n):\n",
    "  if(n % 2 == 0):\n",
    "    return True\n",
    "  else:\n",
    "    return False\n",
    "num = 89\n",
    "\n",
    "if(evenOdd(num)):\n",
    "  print(num,\"num is even\")\n",
    "else:\n",
    "  print(num,\"num is odd\")"
   ]
  },
  {
   "cell_type": "code",
   "execution_count": null,
   "id": "b159727e-73e3-4ff9-b7f2-68adba9fe4e9",
   "metadata": {},
   "outputs": [],
   "source": [
    "#Intermediate Level:\n",
    "#11. Write a program that calculates the roots of a quadratic equation ."
   ]
  },
  {
   "cell_type": "code",
   "execution_count": null,
   "id": "98c559e1-e541-4e9b-b1ec-ce1d2266244d",
   "metadata": {},
   "outputs": [],
   "source": [
    "import cmath\n",
    "a = 1\n",
    "b = 4\n",
    "c = 2\n",
    "dis = (b ** 2) - (4 * a * c)\n",
    "ans1 = (-b-cmath.sqrt(dis))/(2 * a)\n",
    "ans2 = (-b + cmath.sqrt(dis))/(2 * a)\n",
    "print('The roots are')\n",
    "print(ans1)\n",
    "print(ans2)"
   ]
  },
  {
   "cell_type": "code",
   "execution_count": null,
   "id": "d504f992-91dc-4f98-afe7-57e81c67dc41",
   "metadata": {},
   "outputs": [],
   "source": [
    "#12. Create a program that determines the day of the week based on the day number (1-7)."
   ]
  },
  {
   "cell_type": "code",
   "execution_count": null,
   "id": "d87b6a4f-e7f5-4806-bd85-abfbdf76152d",
   "metadata": {},
   "outputs": [],
   "source": [
    "def determine_day(day_number):\n",
    "    days = {\n",
    "        1: \"Monday\",\n",
    "        2: \"Tuesday\",\n",
    "        3: \"Wednesday\",\n",
    "        4: \"Thursday\",\n",
    "        5: \"Friday\",\n",
    "        6: \"Saturday\",\n",
    "        7: \"Sunday\"\n",
    "    }\n",
    "    return days.get(day_number, \"Invalid day number\")\n",
    "\n",
    "day_number = int(input(\"Enter a day number (1-7): \"))\n",
    "print(\"The day of the week is\", determine_day(day_number))"
   ]
  },
  {
   "cell_type": "code",
   "execution_count": null,
   "id": "ee68734b-eee3-4be2-a25a-07ce9782a47c",
   "metadata": {},
   "outputs": [],
   "source": [
    "#13. Develop a program that calculates the factorial of a given number using recursion."
   ]
  },
  {
   "cell_type": "code",
   "execution_count": null,
   "id": "5d00016e-42b4-4d55-9c9a-b6e6e5456b27",
   "metadata": {},
   "outputs": [],
   "source": [
    "def factorial(n):\n",
    "    if n == 0:\n",
    "        return 1\n",
    "    else:\n",
    "        return n * factorial(n-1)\n",
    "\n",
    "num = int(input(\"Enter a number: \"))\n",
    "print(\"The factorial of\", num, \"is\", factorial(num))\n"
   ]
  },
  {
   "cell_type": "code",
   "execution_count": null,
   "id": "bda7814b-e521-40ef-830f-e4342726e5a5",
   "metadata": {},
   "outputs": [],
   "source": [
    "#14. Write a program to find the largest among three numbers without using the `max()` function."
   ]
  },
  {
   "cell_type": "code",
   "execution_count": null,
   "id": "d6483ad4-6e19-44c6-a75d-6a5fc2c62965",
   "metadata": {},
   "outputs": [],
   "source": [
    "def maximum(a, b, c):\n",
    "  if(a >= b) and (a >= c):\n",
    "    largest = a\n",
    "  elif (b >= a) and (b >= c):\n",
    "    largest = b\n",
    "  else:\n",
    "    largest = c\n",
    "  return largest\n",
    "a = 10\n",
    "b = 14\n",
    "c = 12\n",
    "print(maximum(a, b, c))"
   ]
  },
  {
   "cell_type": "code",
   "execution_count": null,
   "id": "b34a2ca7-8078-4ae2-ae74-31cf2936edec",
   "metadata": {},
   "outputs": [],
   "source": [
    "#15. Create a program that simulates a basic ATM transaction menu."
   ]
  },
  {
   "cell_type": "code",
   "execution_count": null,
   "id": "9901e98f-7fdb-4cec-97e3-7b7f88d72f2d",
   "metadata": {},
   "outputs": [],
   "source": [
    "def atm_menu():\n",
    "    balance = 1000  \n",
    "    while True:\n",
    "        print(\"1. Check Balance\")\n",
    "        print(\"2. Deposit Money\")\n",
    "        print(\"3. Withdraw Money\")\n",
    "        print(\"4. Exit\")\n",
    "        choice = int(input(\"Enter your choice: \"))\n",
    "        if choice == 1:\n",
    "            print(\"Your balance is\", balance)\n",
    "        elif choice == 2:\n",
    "            deposit = float(input(\"Enter the amount to deposit: \"))\n",
    "            balance += deposit\n",
    "            print(\"Deposit successful. Your new balance is\", balance)\n",
    "        elif choice == 3:\n",
    "            withdraw = float(input(\"Enter the amount to withdraw: \"))\n",
    "            if withdraw <= balance:\n",
    "                balance -= withdraw\n",
    "                print(\"Withdrawal successful. Your new balance is\", balance)\n",
    "            else:\n",
    "                print(\"Insufficient balance.\")\n",
    "        elif choice == 4:\n",
    "            print(\"Thank you for using our ATM. Goodbye!\")\n",
    "            break\n",
    "        else:\n",
    "            print(\"Invalid choice. Please choose a number between 1 and 4.\")\n",
    "\n"
   ]
  },
  {
   "cell_type": "code",
   "execution_count": null,
   "id": "011c14fb-225a-4bab-a3f7-aa4d3b37d092",
   "metadata": {},
   "outputs": [],
   "source": [
    "#16. Build a program that checks if a given string is a palindrome or not."
   ]
  },
  {
   "cell_type": "code",
   "execution_count": null,
   "id": "e4548881-118e-494a-8211-77e770374fa8",
   "metadata": {},
   "outputs": [],
   "source": [
    "def isPalindrome(s):\n",
    "  return s == s[::-1]\n",
    "s = \"madm\"\n",
    "ans = isPalindrome(s)\n",
    "if ans:\n",
    "  print(\"Yes\")\n",
    "else:\n",
    "  print(\"No\")"
   ]
  },
  {
   "cell_type": "code",
   "execution_count": null,
   "id": "e2fbf42a-22d4-4746-9ac0-ac22aaa038c6",
   "metadata": {},
   "outputs": [],
   "source": [
    "#17. Write a program that calculates the average of a list of numbers, excluding the smallest and largest values."
   ]
  },
  {
   "cell_type": "code",
   "execution_count": null,
   "id": "7038dd3b-124a-493f-9640-187c83ef0e3c",
   "metadata": {},
   "outputs": [],
   "source": [
    "def calculate_average(numbers):\n",
    "    if len(numbers) <= 2:\n",
    "        return \"The list must contain more than two numbers.\"\n",
    "    else:\n",
    "        numbers.remove(max(numbers))\n",
    "        numbers.remove(min(numbers))\n",
    "        return sum(numbers) / len(numbers)\n",
    "\n",
    "\n",
    "numbers = [float(input(\"Enter number {}: \".format(i+1))) for i in range(int(input(\"Enter the total number of elements: \")))]\n",
    "print(\"The average is\", calculate_average(numbers))"
   ]
  },
  {
   "cell_type": "code",
   "execution_count": null,
   "id": "e4487600-b969-4d6d-9f86-11bf9f583f02",
   "metadata": {},
   "outputs": [],
   "source": [
    "#18. Develop a program that converts a given temperature from Celsius to Fahrenheit."
   ]
  },
  {
   "cell_type": "code",
   "execution_count": null,
   "id": "e6f92da8-ebcd-41b6-bab3-f48381cb336a",
   "metadata": {},
   "outputs": [],
   "source": [
    "celsius = float(input(\"Enter temperature in celsius: \"))\n",
    "fahrenheit = (celsius * 1.8) + 32\n",
    "print(str(celsius)+ \" degree Celsius is equal to \" + str(fahrenheit) + \" degree Fahrenheit\")"
   ]
  },
  {
   "cell_type": "code",
   "execution_count": null,
   "id": "d67e20df-2646-4c99-abe7-cc21298bb815",
   "metadata": {},
   "outputs": [],
   "source": [
    "#19. Create a program that simulates a basic calculator for addition, subtraction, multiplication, and division."
   ]
  },
  {
   "cell_type": "code",
   "execution_count": null,
   "id": "d3b7b0f3-2716-4c35-8b64-cca2527824a1",
   "metadata": {},
   "outputs": [],
   "source": [
    "def add(num1, num2):\n",
    "  return num1 + num2\n",
    "def subtract(num1, num2):\n",
    "  return num1 - num2\n",
    "def multiply(num1, num2):\n",
    "  return num1 * num2\n",
    "def divide(num1, num2):\n",
    "  return num1 / num2\n",
    "print(\"Please select operation -\\n\" \\\n",
    "      \"1. Add\\n\" \\\n",
    "      \"2. Subtract\\n\" \\\n",
    "      \"3. Multiply\\n\" \\\n",
    "      \"4. Divide\\n\")\n",
    "select = int(input(\"Select operations from 1, 2, 3, 4: \"))\n",
    "number_1 = int(input(\"Enter first number: \"))\n",
    "number_2 = int(input(\"Enter second number: \"))\n",
    "if select == 1:\n",
    "  print(number_1, \"+\", number_2, \"=\", add(number_1, number_2))\n",
    "elif select == 2:\n",
    "  print(number_1, \"-\", number_2, \"=\", subtract(number_1, number_2))\n",
    "elif select == 3:\n",
    "  print(number_1, \"*\", number_2, \"=\", multiply(number_1, number_2))\n",
    "elif select == 4:\n",
    "  print(number_1, \"/\", number_2, \"=\", divide(number_1, number_2))\n",
    "else:\n",
    "  print(\"Invalid input\")\n",
    "     "
   ]
  },
  {
   "cell_type": "code",
   "execution_count": null,
   "id": "0d1b9766-2ad2-4124-bda7-15dbc457115f",
   "metadata": {},
   "outputs": [],
   "source": [
    "#20. Write a program that determines the roots of a cubic equation using the Cardano formula."
   ]
  },
  {
   "cell_type": "code",
   "execution_count": null,
   "id": "53fc6619-f9df-4488-8522-c9c7c5909276",
   "metadata": {},
   "outputs": [],
   "source": [
    "from functools import reduce\n",
    "def cubic_roots(n):\n",
    "  x = n\n",
    "  y = (2 * x + n / x ** 2) / 3\n",
    "  while abs(x - y) >= 0.000001:\n",
    "    x = y\n",
    "    y = reduce(lambda a, b: (2 * a + n / b ** 2) / 3, [y, y])\n",
    "  return y\n",
    "n = 3\n",
    "\n",
    "print(\"Cubic root of\", n, \"is\", round(cubic_roots(n), 6))"
   ]
  },
  {
   "cell_type": "code",
   "execution_count": null,
   "id": "12fb97ba-fe45-40d3-88bd-8db006bef611",
   "metadata": {},
   "outputs": [],
   "source": [
    "#Advanced Level:#21. Create a program that calculates the income tax based on the user's income and tax brackets."
   ]
  },
  {
   "cell_type": "code",
   "execution_count": null,
   "id": "fbbcfc7c-71aa-482f-ae4d-7be4d08ef986",
   "metadata": {},
   "outputs": [],
   "source": [
    "def calculate(amount, percent):\n",
    "  return(amount * percent) / 100\n",
    "def calculate_income_tax(total_income:float) :\n",
    "  if total_income <= 250000:\n",
    "    return 0\n",
    "  elif total_income <= 500000:\n",
    "    return calculate(total_income - 250000, 5)\n",
    "  elif total_income <= 750000:\n",
    "    return calculate(total_income - 500000, 10) + 12500\n",
    "  elif total_income <= 1000000:\n",
    "    return calculate(total_income - 750000, 15) + 37500\n",
    "  elif total_income <= 1250000:\n",
    "    return calculate(total_income - 1000000, 20) + 75000\n",
    "  elif total_income <= 1500000:\n",
    "    return calculate(total_income - 1250000, 25) + 125000\n",
    "  else:\n",
    "    return calculate(total_income - 1500000, 30) + 187500\n",
    "if __name__ == '__main__':\n",
    "  total_income = float(input(\"What's your annual income? \"))\n",
    "  tax = calculate_income_tax(total_income)\n",
    "  print(f\"Total tax applicable at  {total_income} is {tax}\") "
   ]
  },
  {
   "cell_type": "code",
   "execution_count": null,
   "id": "ad96494f-06a3-49e6-9965-ff71825607b7",
   "metadata": {},
   "outputs": [],
   "source": [
    "#22. Write a program that simulates a rock-paper-scissors game against the computer."
   ]
  },
  {
   "cell_type": "code",
   "execution_count": null,
   "id": "97f4f7d0-791a-468b-8a14-ea06d4cb1f11",
   "metadata": {},
   "outputs": [],
   "source": [
    "import random\n",
    "\n",
    "def rock_paper_scissors():\n",
    "    choices = [\"rock\", \"paper\", \"scissors\"]\n",
    "    computer_choice = random.choice(choices)\n",
    "    user_choice = input(\"Enter your choice (rock, paper, or scissors): \").lower()\n",
    "    print(\"Computer chose\", computer_choice)\n",
    "    if user_choice == computer_choice:\n",
    "        return \"It's a tie!\"\n",
    "    if (user_choice == \"rock\" and computer_choice == \"scissors\") or \\\n",
    "       (user_choice == \"scissors\" and computer_choice == \"paper\") or \\\n",
    "       (user_choice == \"paper\" and computer_choice == \"rock\"):\n",
    "        return \"You win!\"\n",
    "    else:\n",
    "        return \"You lose!\"\n",
    "\n",
    "print(rock_paper_scissors())"
   ]
  },
  {
   "cell_type": "code",
   "execution_count": null,
   "id": "4ae70545-eb5f-4d08-9dcc-e68f11b224e6",
   "metadata": {},
   "outputs": [],
   "source": [
    "#23. Develop a program that generates a random password based on user preferences (length, complexity)."
   ]
  },
  {
   "cell_type": "code",
   "execution_count": null,
   "id": "cdacb8a9-a03d-48b5-a9e8-2405bc728f6f",
   "metadata": {},
   "outputs": [],
   "source": [
    "import random\n",
    "import string\n",
    "\n",
    "def generate_password(length, complexity):\n",
    "    if complexity == \"low\":\n",
    "        characters = string.ascii_lowercase\n",
    "    elif complexity == \"medium\":\n",
    "        characters = string.ascii_letters + string.digits\n",
    "    elif complexity == \"high\":\n",
    "        characters = string.ascii_letters + string.digits + string.punctuation\n",
    "    else:\n",
    "        return \"Invalid complexity level. Please choose low, medium, or high.\"\n",
    "\n",
    "    password = \"\".join(random.choice(characters) for _ in range(length))\n",
    "    return password\n",
    "\n",
    "length = int(input(\"Enter the desired password length: \"))\n",
    "complexity = input(\"Enter the desired password complexity (low, medium, high): \")\n",
    "print(\"Your generated password is:\", generate_password(length, complexity))"
   ]
  },
  {
   "cell_type": "code",
   "execution_count": null,
   "id": "fe30b3eb-6884-44c6-a315-3f89ded32b34",
   "metadata": {},
   "outputs": [],
   "source": [
    "#24. Create a program that implements a simple text-based adventure game with branching scenarios."
   ]
  },
  {
   "cell_type": "code",
   "execution_count": null,
   "id": "8bf53db4-a6fe-40ab-94b0-335790ae7e09",
   "metadata": {},
   "outputs": [],
   "source": [
    "def adventure_game():\n",
    "    print(\"Welcome to the Adventure Game!\")\n",
    "    print(\"You are in a dark room. There is a door to your right and left.\")\n",
    "    choice = input(\"Which door do you choose? (right/left): \")\n",
    "\n",
    "    if choice == \"left\":\n",
    "        print(\"You find yourself in a library.\")\n",
    "        choice = input(\"Do you read a book or exit? (read/exit): \")\n",
    "\n",
    "        if choice == \"read\":\n",
    "            print(\"You read a book and gain knowledge. You win!\")\n",
    "        elif choice == \"exit\":\n",
    "            print(\"You exit the library and the adventure ends. You lose.\")\n",
    "        else:\n",
    "            print(\"Invalid choice. Game Over.\")\n",
    "\n",
    "    elif choice == \"right\":\n",
    "        print(\"You find yourself in a treasure room.\")\n",
    "        choice = input(\"Do you take the treasure or exit? (take/exit): \")\n",
    "\n",
    "        if choice == \"take\":\n",
    "            print(\"You take the treasure and become rich. You win!\")\n",
    "        elif choice == \"exit\":\n",
    "            print(\"You exit the treasure room and the adventure ends. You lose.\")\n",
    "        else:\n",
    "            print(\"Invalid choice. Game Over.\")\n",
    "\n",
    "    else:\n",
    "        print(\"Invalid choice. Game Over.\")\n",
    "\n",
    "adventure_game()"
   ]
  },
  {
   "cell_type": "code",
   "execution_count": null,
   "id": "71386191-8dfa-4e75-bee3-53a8b920814c",
   "metadata": {},
   "outputs": [],
   "source": [
    "#25. Build a program that solves a linear equation for x, considering different cases."
   ]
  },
  {
   "cell_type": "code",
   "execution_count": null,
   "id": "e06990e0-b712-49a2-bbf1-06e691c1bf51",
   "metadata": {},
   "outputs": [],
   "source": [
    "def solve_linear_equation(a, b):\n",
    "    if a == 0:\n",
    "        if b == 0:\n",
    "            return \"Infinite solutions exist as the equation is 0 = 0.\"\n",
    "        else:\n",
    "            return \"No solution exists as the equation is a contradiction.\"\n",
    "    else:\n",
    "        x = -b / a\n",
    "        return f\"The solution is x = {x}.\"\n",
    "\n",
    "print(solve_linear_equation(2, 3))  \n",
    "print(solve_linear_equation(0, 3))  \n",
    "print(solve_linear_equation(0, 0)) "
   ]
  },
  {
   "cell_type": "code",
   "execution_count": null,
   "id": "e6a351ce-da36-46d1-af06-eef80dd60baa",
   "metadata": {},
   "outputs": [],
   "source": [
    "#26. Write a program that simulates a basic quiz game with multiple-choice questions and scoring."
   ]
  },
  {
   "cell_type": "code",
   "execution_count": null,
   "id": "66311f13-cac2-4af9-838d-ec82b3b564fc",
   "metadata": {},
   "outputs": [],
   "source": [
    "class Question:\n",
    "    def __init__(self, prompt, answer):\n",
    "        self.prompt = prompt\n",
    "        self.answer = answer\n",
    "\n",
    "questions_prompts = [\"What color are apples?\\n(a) Red/Green\\n(b) Purple\\n(c) Orange\\n\\n\",\n",
    "    \"What color are bananas?\\n(a) Teal\\n(b) Magenta\\n(c) Yellow\\n\\n\"]\n",
    "\n",
    "questions = [Question(questions_prompts[0], \"a\"),Question(questions_prompts[1], \"c\")]\n",
    "\n",
    "def run_quiz(questions):\n",
    "    score = 0\n",
    "    for question in questions:\n",
    "        answer = input(question.prompt)\n",
    "        if answer == question.answer:\n",
    "            score += 1\n",
    "    print(f\"You got {score}/{len(questions)} correct\")\n",
    "\n",
    "run_quiz(questions)"
   ]
  },
  {
   "cell_type": "code",
   "execution_count": null,
   "id": "0e5662a4-e14f-46b4-913d-61bfac1e93e9",
   "metadata": {},
   "outputs": [],
   "source": [
    "#27. Develop a program that determines whether a given year is a prime number or not."
   ]
  },
  {
   "cell_type": "code",
   "execution_count": null,
   "id": "9feb25f3-4505-46f2-a5c8-c9fb4ad9199b",
   "metadata": {},
   "outputs": [],
   "source": [
    "def is_prime(n):\n",
    "    if n > 2:\n",
    "        for i in range(2,n):\n",
    "            if (n % i) == 0:\n",
    "                return \"Not a Prime Number\"\n",
    "        else:\n",
    "            return \"Prime Number\"\n",
    "    else:\n",
    "        return \"Not a Prime Number\"\n",
    "\n",
    "num = int(input(\"Enter a year: \"))\n",
    "print(is_prime(num))"
   ]
  },
  {
   "cell_type": "code",
   "execution_count": null,
   "id": "1a3432a6-ca52-4669-ab21-13dfb5be41bd",
   "metadata": {},
   "outputs": [],
   "source": [
    "#28Create a program that sorts three numbers in ascending order using conditional statements."
   ]
  },
  {
   "cell_type": "code",
   "execution_count": null,
   "id": "a45299dc-1269-4b3a-a9c1-a622360ffb45",
   "metadata": {},
   "outputs": [],
   "source": [
    "\n",
    "def sort_numbers(a, b, c):\n",
    "    if a > b:\n",
    "        a, b = b, a\n",
    "    if a > c:\n",
    "        a, c = c, a\n",
    "    if b > c:\n",
    "        b, c = c, b\n",
    "    return a, b, c\n",
    "\n",
    "print(sort_numbers(3, 1, 2)) \n",
    "print(sort_numbers(1, 1, 2))  \n",
    "print(sort_numbers(3, 2, 2))  \n"
   ]
  },
  {
   "cell_type": "code",
   "execution_count": null,
   "id": "379c485e-9c4c-4607-8afe-7ba4400ceb8d",
   "metadata": {},
   "outputs": [],
   "source": [
    "#29. Build a program that determines the roots of a quartic equation using numerical methods."
   ]
  },
  {
   "cell_type": "code",
   "execution_count": null,
   "id": "95679a8e-3151-4181-a243-6e747a46d2e0",
   "metadata": {},
   "outputs": [],
   "source": [
    "import cmath\n",
    "a = float(input(\"Enter a: \"))\n",
    "b = float(input(\"Enter b: \"))\n",
    "c = float(input(\"Enter c: \"))\n",
    "d = (b ** 2) - (4 * a * c)\n",
    "sol1 = (-b - cmath.sqrt(d))/(2 * a)\n",
    "sol2 = (-b + cmath.sqrt(d))/(2 * a)\n",
    "print(\"The solution are {0} and {1}\".format(sol1, sol2))"
   ]
  },
  {
   "cell_type": "code",
   "execution_count": null,
   "id": "43fc1ffd-25ad-41ca-ae43-ff1e1913bc0e",
   "metadata": {},
   "outputs": [],
   "source": [
    "#30. Write a program that calculates the BMI (Body Mass Index) and provides health recommendations basedon the user's input."
   ]
  },
  {
   "cell_type": "code",
   "execution_count": null,
   "id": "f31132a9-bded-4cda-8b08-350cb41e672a",
   "metadata": {},
   "outputs": [],
   "source": [
    "def calculate_bmi(weight, height):\n",
    "    bmi = weight / (height ** 2)\n",
    "    if bmi < 18.5:\n",
    "        recommendation = \"You are underweight. It's recommended to gain weight for better health.\"\n",
    "    elif 18.5 <= bmi < 25:\n",
    "        recommendation = \"You have a normal weight. Keep maintaining your current weight for good health.\"\n",
    "    elif 25 <= bmi < 30:\n",
    "        recommendation = \"You are overweight. It's recommended to lose some weight for better health.\"\n",
    "    else:\n",
    "        recommendation = \"You are obese. It's recommended to lose weight for better health.\"\n",
    "    return bmi, recommendation\n",
    "\n",
    "weight = 70  \n",
    "height = 1.75  \n",
    "bmi, recommendation = calculate_bmi(weight, height)\n",
    "print(f\"Your BMI is {bmi:.2f}. {recommendation}\")\n"
   ]
  },
  {
   "cell_type": "code",
   "execution_count": null,
   "id": "5942ac9f-3d7c-4cb8-9d30-38bc24c2c10d",
   "metadata": {},
   "outputs": [],
   "source": [
    "#Challenge Level:31. Create a program that validates a password based on complexity rules (length, characters, etc.)."
   ]
  },
  {
   "cell_type": "code",
   "execution_count": null,
   "id": "ee38a319-0c2f-4c12-be9a-b9e5cca596bf",
   "metadata": {},
   "outputs": [],
   "source": [
    "import re\n",
    "\n",
    "def validate_password(password):\n",
    "    if len(password) < 8:\n",
    "        return \"Password should be at least 8 characters long.\"\n",
    "    elif not re.search(\"[a-z]\", password):\n",
    "        return \"Password should contain at least one lowercase letter.\"\n",
    "    elif not re.search(\"[A-Z]\", password):\n",
    "        return \"Password should contain at least one uppercase letter.\"\n",
    "    elif not re.search(\"[0-9]\", password):\n",
    "        return \"Password should contain at least one number.\"\n",
    "    elif not re.search(\"[!@#$%^&*]\", password):\n",
    "        return \"Password should contain at least one special character.\"\n",
    "    else:\n",
    "        return \"Password is valid.\"\n",
    "\n",
    "print(validate_password(\"password\")) \n",
    "print(validate_password(\"Password\"))  \n",
    "print(validate_password(\"Password1\"))  \n",
    "print(validate_password(\"Password1!\")) "
   ]
  },
  {
   "cell_type": "code",
   "execution_count": null,
   "id": "9ae154e1-b526-4029-8e42-b0f1797f2c4d",
   "metadata": {},
   "outputs": [],
   "source": [
    "#32. Develop a program that performs matrix addition and subtraction based on user input."
   ]
  },
  {
   "cell_type": "code",
   "execution_count": null,
   "id": "f4b15e8a-0e0d-4189-8d07-e505d23a38ee",
   "metadata": {},
   "outputs": [],
   "source": [
    "import numpy as np\n",
    "A = np.array([[1, 2], [3, 4]])\n",
    "B = np.array([[4, 5], [6, 7]])\n",
    "print(\"Printing elements of first matrix\")\n",
    "print(A)\n",
    "print(\"Printing elements of second matrix\")\n",
    "print(B)\n",
    "print(\"Addition of two matrix\")\n",
    "print(np.add(A, B))\n",
    "\n",
    "import numpy as np\n",
    "A = np.array([[1, 2], [3, 4]])\n",
    "B = np.array([[4, 5], [6, 7]])\n",
    "print(\"Printing elements of first matrix\")\n",
    "print(A)\n",
    "print(\"Printing elements of second matrix\")\n",
    "print(B)\n",
    "print(\"Subtraction of two matrix\")\n",
    "print(np.subtract(A, B))\n"
   ]
  },
  {
   "cell_type": "code",
   "execution_count": null,
   "id": "1a781a8c-6aa2-495e-8b45-939ab261b52f",
   "metadata": {},
   "outputs": [],
   "source": [
    "#33. Write a program that calculates the greatest common divisor (GCD) of two numbers using the Euclidean algorithm."
   ]
  },
  {
   "cell_type": "code",
   "execution_count": null,
   "id": "0d153c80-ab5d-4670-a88d-be39559ecbdb",
   "metadata": {},
   "outputs": [],
   "source": [
    "def gcd(a, b):\n",
    "  if (a == 0):\n",
    "    return b\n",
    "  if (b == 0):\n",
    "    return a\n",
    "  if (a == b):\n",
    "    return a\n",
    "  if (a > b):\n",
    "    return gcd(a-b, b)\n",
    "  return gcd(a, b-a)\n",
    "a = 98\n",
    "b = 56\n",
    "if(gcd(a, b)):\n",
    "  print('GCD of', a, 'and', b, 'is', gcd(a, b))\n",
    "else:\n",
    "  print('not found')"
   ]
  },
  {
   "cell_type": "code",
   "execution_count": null,
   "id": "055ffa16-c32d-4873-82bb-0cb238a8253b",
   "metadata": {},
   "outputs": [],
   "source": [
    "#34. Build a program that performs matrix multiplication using nested loops and conditional statements."
   ]
  },
  {
   "cell_type": "code",
   "execution_count": null,
   "id": "6ac7c9ae-1b1e-4215-a39a-db3c8db4842e",
   "metadata": {},
   "outputs": [],
   "source": [
    "def matrix_multiplication(matrix1, matrix2):\n",
    "\n",
    "    rows_matrix1 = len(matrix1)\n",
    "    cols_matrix1 = len(matrix1[0])\n",
    "    rows_matrix2 = len(matrix2)\n",
    "    cols_matrix2 = len(matrix2[0])\n",
    "\n",
    "    if cols_matrix1 != rows_matrix2:\n",
    "        return \"The matrices cannot be multiplied.\"\n",
    "\n",
    "    result = [[0 for _ in range(cols_matrix2)] for _ in range(rows_matrix1)]\n",
    "\n",
    "    for i in range(rows_matrix1):\n",
    "        for j in range(cols_matrix2):\n",
    "            for k in range(cols_matrix1):\n",
    "                result[i][j] += matrix1[i][k] * matrix2[k][j]\n",
    "\n",
    "    return result\n",
    "\n",
    "matrix1 = [[1, 2, 3], [4, 5, 6]]\n",
    "matrix2 = [[7, 8], [9, 10], [11, 12]]\n",
    "print(matrix_multiplication(matrix1, matrix2)) \n"
   ]
  },
  {
   "cell_type": "code",
   "execution_count": null,
   "id": "772db895-af4a-4aed-a7a1-d9736cacb45e",
   "metadata": {},
   "outputs": [],
   "source": [
    "#35. Create a program that simulates a basic text-based tic-tac-toe game against the computer."
   ]
  },
  {
   "cell_type": "code",
   "execution_count": null,
   "id": "5afb91c8-9c3e-4086-a04c-ed842e16892d",
   "metadata": {},
   "outputs": [],
   "source": [
    "import random\n",
    "\n",
    "def print_board(board):\n",
    "    print(f'{board[0]} | {board[1]} | {board[2]}')\n",
    "    print('---------')\n",
    "    print(f'{board[3]} | {board[4]} | {board[5]}')\n",
    "    print('---------')\n",
    "    print(f'{board[6]} | {board[7]} | {board[8]}')\n",
    "\n",
    "def check_win(board):\n",
    "    win_conditions = [(0, 1, 2), (3, 4, 5), (6, 7, 8), (0, 3, 6), (1, 4, 7), (2, 5, 8), (0, 4, 8), (2, 4, 6)]\n",
    "    for condition in win_conditions:\n",
    "        if board[condition[0]] == board[condition[1]] == board[condition[2]] != ' ':\n",
    "            return board[condition[0]]\n",
    "    if ' ' not in board:\n",
    "        return 'Draw'\n",
    "    return False\n",
    "\n",
    "def tic_tac_toe():\n",
    "    board = [' '] * 9\n",
    "    current_player = 'X'\n",
    "\n",
    "    while True:\n",
    "        print_board(board)\n",
    "        if current_player == 'X':\n",
    "            move = int(input('Your turn! Enter a position (1-9): ')) - 1\n",
    "        else:\n",
    "            move = random.choice([i for i, v in enumerate(board) if v == ' '])\n",
    "        board[move] = current_player\n",
    "\n",
    "        result = check_win(board)\n",
    "        if result:\n",
    "            print_board(board)\n",
    "            if result == 'Draw':\n",
    "                print('The game is a draw.')\n",
    "            else:\n",
    "                print(f'Player {result} wins!')\n",
    "            break\n",
    "\n",
    "        current_player = 'O' if current_player == 'X' else 'X'\n",
    "\n",
    "tic_tac_toe()\n"
   ]
  },
  {
   "cell_type": "code",
   "execution_count": null,
   "id": "030fbc85-4aa8-43b3-8e38-6c01502eb01f",
   "metadata": {},
   "outputs": [],
   "source": [
    "#36. Write a program that generates Fibonacci numbers up to a specified term using iterative methods."
   ]
  },
  {
   "cell_type": "code",
   "execution_count": 1,
   "id": "37f15cd5-662d-42ea-9760-49772dd5230b",
   "metadata": {},
   "outputs": [],
   "source": [
    "n = int(input(\"enter a term\"))\n",
    "a = 0\n",
    "b = 1\n",
    "c = 0\n",
    "print(a)\n",
    "print(b)\n",
    "for i in range(n-2):\n",
    "    c=a+b\n",
    "    print(c)\n",
    "    a=b\n",
    "    b=c"
   ]
  },
  {
   "cell_type": "code",
   "execution_count": null,
   "id": "45ee00ed-f2d4-48cc-a9ad-b28e655c84fc",
   "metadata": {},
   "outputs": [],
   "source": [
    "#37. Develop a program that calculates the nth term of the Fibonacci sequence using memoization."
   ]
  },
  {
   "cell_type": "code",
   "execution_count": 8,
   "id": "c938daba-94d4-47f6-9781-5f43bd5b81de",
   "metadata": {},
   "outputs": [],
   "source": [
    "def fibonacci(n, memo = {}):\n",
    "    if n in memo:\n",
    "        return memo[n]\n",
    "    elif n <= 2:\n",
    "        return 1\n",
    "    else:\n",
    "        memo[n] = fibonacci(n-1, memo) + fibonacci(n-2, memo)\n",
    "        return memo[n]\n",
    "\n",
    "print(fibonacci(10))"
   ]
  },
  {
   "cell_type": "code",
   "execution_count": null,
   "id": "a6f37f4a-1a55-4434-905d-c3d3211b8290",
   "metadata": {},
   "outputs": [],
   "source": [
    "#38. Create a program that generates a calendar for a given month and year using conditional statements."
   ]
  },
  {
   "cell_type": "code",
   "execution_count": 12,
   "id": "a2e77efc-5515-44d4-b070-167198725ebd",
   "metadata": {},
   "outputs": [],
   "source": [
    "import calendar\n",
    "\n",
    "def print_calendar(year, month):\n",
    "    if not (1 <= month <= 12):\n",
    "        return \"Invalid month. Please enter a number between 1 and 12.\"\n",
    "    if not (1 <= year <= 9999):\n",
    "        return \"Invalid year. Please enter a number between 1 and 9999.\"\n",
    "\n",
    "    cal = calendar.TextCalendar()\n",
    "\n",
    "    print(cal.formatmonth(year, month))\n",
    "\n",
    "print_calendar(2024, 9)  "
   ]
  },
  {
   "cell_type": "code",
   "execution_count": 13,
   "id": "141f7afc-4615-4d7c-a7ca-6b15702b3588",
   "metadata": {},
   "outputs": [],
   "source": [
    "#39. Build a program that simulates a basic text-based blackjack game against the computer."
   ]
  },
  {
   "cell_type": "code",
   "execution_count": 16,
   "id": "21e38285-6ea7-43ac-853f-0f4da7407c88",
   "metadata": {},
   "outputs": [],
   "source": [
    "import random\n",
    "\n",
    "def deal_card():\n",
    "    cards = [11, 2, 3, 4, 5, 6, 7, 8, 9, 10, 10, 10, 10]\n",
    "    return random.choice(cards)\n",
    "\n",
    "def calculate_score(hand):\n",
    "    if sum(hand) == 21 and len(hand) == 2:\n",
    "        return 0\n",
    "    if 11 in hand and sum(hand) > 21:\n",
    "        hand.remove(11)\n",
    "        hand.append(1)\n",
    "    return sum(hand)\n",
    "\n",
    "def blackjack():\n",
    "    user_hand = []\n",
    "    computer_hand = []\n",
    "    game_over = False\n",
    "\n",
    "    for _ in range(2):\n",
    "        user_hand.append(deal_card())\n",
    "        computer_hand.append(deal_card())\n",
    "\n",
    "    while not game_over:\n",
    "        user_score = calculate_score(user_hand)\n",
    "        computer_score = calculate_score(computer_hand)\n",
    "\n",
    "        print(f\"Your cards: {user_hand}, current score: {user_score}\")\n",
    "        print(f\"Computer's first card: {computer_hand[0]}\")\n",
    "\n",
    "        if user_score == 0 or computer_score == 0 or user_score > 21:\n",
    "            game_over = True\n",
    "        else:\n",
    "            should_continue = input(\"Type 'y' to get another card, 'n' to pass: \")\n",
    "            if should_continue == 'y':\n",
    "                user_hand.append(deal_card())\n",
    "            else:\n",
    "                game_over = True\n",
    "\n",
    "    while computer_score != 0 and computer_score < 17:\n",
    "        computer_hand.append(deal_card())\n",
    "        computer_score = calculate_score(computer_hand)\n",
    "\n",
    "    print(f\"Your final hand: {user_hand}, final score: {user_score}\")\n",
    "    print(f\"Computer's final hand: {computer_hand}, final score: {computer_score}\")\n",
    "\n",
    "    if user_score > 21:\n",
    "        return \"You went over. You lose!\"\n",
    "    elif computer_score > 21:\n",
    "        return \"Computer went over. You win!\"\n",
    "    elif user_score == computer_score:\n",
    "        return \"It's a draw!\"\n",
    "    elif user_score == 0:\n",
    "        return \"Blackjack! You win!\"\n",
    "    elif computer_score == 0:\n",
    "        return \"Computer got a Blackjack. You lose!\"\n",
    "    elif user_score > computer_score:\n",
    "        return \"You win!\"\n",
    "    else:\n",
    "        return \"You lose!\"\n",
    "\n",
    "print(blackjack())"
   ]
  },
  {
   "cell_type": "code",
   "execution_count": 14,
   "id": "654a8f8f-0351-41be-ae3a-f8c3970d3a1a",
   "metadata": {},
   "outputs": [],
   "source": [
    "#40.Write a program that generates the prime factors of a given number using trial division."
   ]
  },
  {
   "cell_type": "code",
   "execution_count": 5,
   "id": "55287bc9-a79a-4698-8942-3ef47608aa9f",
   "metadata": {},
   "outputs": [
    {
     "name": "stdout",
     "output_type": "stream",
     "text": [
      "[2, 2]\n"
     ]
    }
   ],
   "source": [
    "def prime_factors(n):\n",
    "    i = 2\n",
    "    factors = []\n",
    "    while i * i <= n:\n",
    "        if n % i:\n",
    "            i += 1\n",
    "        else:\n",
    "            n //= i\n",
    "            factors.append(i)\n",
    "    if n > 1:\n",
    "        factors.append(n)\n",
    "    return factors\n",
    "\n",
    "print(prime_factors(4)) "
   ]
  },
  {
   "cell_type": "code",
   "execution_count": null,
   "id": "1c722226-54bf-48cc-a135-5bd8de66762a",
   "metadata": {},
   "outputs": [],
   "source": [
    "def prie(n):\n",
    "    i =2\n",
    "    factors = []\n",
    "    while i * i <=n:\n",
    "        if n%i:\n",
    "            i+=1\n",
    "        else:\n",
    "            n//=i\n",
    "            factors.append(i)\n",
    "    if n>1:\n",
    "        factors.append(n)\n",
    "    return factors\n",
    "print(prime factors(4))"
   ]
  }
 ],
 "metadata": {
  "kernelspec": {
   "display_name": "Python 3 (ipykernel)",
   "language": "python",
   "name": "python3"
  },
  "language_info": {
   "codemirror_mode": {
    "name": "ipython",
    "version": 3
   },
   "file_extension": ".py",
   "mimetype": "text/x-python",
   "name": "python",
   "nbconvert_exporter": "python",
   "pygments_lexer": "ipython3",
   "version": "3.10.8"
  }
 },
 "nbformat": 4,
 "nbformat_minor": 5
}
